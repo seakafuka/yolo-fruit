{
 "cells": [
  {
   "cell_type": "code",
   "execution_count": 4,
   "metadata": {},
   "outputs": [
    {
     "name": "stdout",
     "output_type": "stream",
     "text": [
      "Running on local URL:  http://127.0.0.1:7863\n",
      "\n",
      "Could not create share link. Please check your internet connection or our status page: https://status.gradio.app.\n"
     ]
    },
    {
     "name": "stderr",
     "output_type": "stream",
     "text": [
      "2024/06/02 18:08:55 [W] [service.go:132] login to server failed: i/o deadline reached\n"
     ]
    },
    {
     "data": {
      "text/html": [
       "<div><iframe src=\"http://127.0.0.1:7863/\" width=\"100%\" height=\"500\" allow=\"autoplay; camera; microphone; clipboard-read; clipboard-write;\" frameborder=\"0\" allowfullscreen></iframe></div>"
      ],
      "text/plain": [
       "<IPython.core.display.HTML object>"
      ]
     },
     "metadata": {},
     "output_type": "display_data"
    },
    {
     "data": {
      "text/plain": []
     },
     "execution_count": 4,
     "metadata": {},
     "output_type": "execute_result"
    },
    {
     "name": "stdout",
     "output_type": "stream",
     "text": [
      "\n",
      "0: 448x640 5 Apples, 10.1ms\n",
      "Speed: 1.0ms preprocess, 10.1ms inference, 1.0ms postprocess per image at shape (1, 3, 448, 640)\n"
     ]
    }
   ],
   "source": [
    "import PIL.Image as Image\n",
    "import gradio as gr\n",
    "import time\n",
    "from ultralytics import ASSETS, YOLO\n",
    "\n",
    "model = YOLO(r'E:\\vscode_code\\apple_and banana_final\\best.pt')\n",
    "def predict_image(img, conf_threshold, iou_threshold):\n",
    "    \"\"\"Predicts and plots labeled objects in an image using YOLOv8 model with adjustable confidence and IOU thresholds.\"\"\"\n",
    "    results = model.predict(\n",
    "        source=img,\n",
    "        conf=conf_threshold,\n",
    "        iou=iou_threshold,\n",
    "        show_labels=True,\n",
    "        show_conf=True,\n",
    "        imgsz=640,\n",
    "        classes=[0,1,3]\n",
    "    )\n",
    "\n",
    "    for r in results:\n",
    "        im_array = r.plot()\n",
    "        im = Image.fromarray(im_array[..., ::-1])\n",
    "\n",
    "    return im\n",
    "\n",
    "\n",
    "iface = gr.Interface(\n",
    "    fn=predict_image,\n",
    "    inputs=[\n",
    "        gr.Image(type=\"pil\", label=\"Upload Image\"),\n",
    "        gr.Slider(minimum=0, maximum=1, value=0.25, label=\"Confidence threshold\"),\n",
    "        gr.Slider(minimum=0, maximum=1, value=0.45, label=\"IoU threshold\")\n",
    "    ],\n",
    "    outputs=gr.Image(type=\"pil\", label=\"Result\"),\n",
    "    title=\"Ultralytics Gradio\",\n",
    "    description=\"Upload images for inference. The Ultralytics YOLOv8n model is used by default.\",\n",
    "  \n",
    ")\n",
    "iface.launch(share=True)\n"
   ]
  }
 ],
 "metadata": {
  "kernelspec": {
   "display_name": "pytorch_learning",
   "language": "python",
   "name": "python3"
  },
  "language_info": {
   "codemirror_mode": {
    "name": "ipython",
    "version": 3
   },
   "file_extension": ".py",
   "mimetype": "text/x-python",
   "name": "python",
   "nbconvert_exporter": "python",
   "pygments_lexer": "ipython3",
   "version": "3.10.13"
  }
 },
 "nbformat": 4,
 "nbformat_minor": 2
}
